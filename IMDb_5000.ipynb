{
  "nbformat": 4,
  "nbformat_minor": 0,
  "metadata": {
    "colab": {
      "name": "IMDb_5000.ipynb",
      "provenance": [],
      "collapsed_sections": []
    },
    "kernelspec": {
      "name": "python3",
      "display_name": "Python 3"
    }
  },
  "cells": [
    {
      "cell_type": "markdown",
      "metadata": {
        "id": "2QKRUREG9RRu",
        "colab_type": "text"
      },
      "source": [
        "# Read the .csv file with the transformed data."
      ]
    },
    {
      "cell_type": "code",
      "metadata": {
        "id": "Lh1KdOFELLyv",
        "colab_type": "code",
        "colab": {
          "base_uri": "https://localhost:8080/",
          "height": 146
        },
        "outputId": "2e6e1055-171d-4073-8fb4-64198a1f0aa3"
      },
      "source": [
        "import pandas as pd\n",
        "\n",
        "df = pd.read_csv('assets/imdb_transformed.csv')\n",
        "\n",
        "df = df.drop('Unnamed: 24',1)\n",
        "df.head(1)"
      ],
      "execution_count": null,
      "outputs": [
        {
          "output_type": "execute_result",
          "data": {
            "text/html": [
              "<div>\n",
              "<style scoped>\n",
              "    .dataframe tbody tr th:only-of-type {\n",
              "        vertical-align: middle;\n",
              "    }\n",
              "\n",
              "    .dataframe tbody tr th {\n",
              "        vertical-align: top;\n",
              "    }\n",
              "\n",
              "    .dataframe thead th {\n",
              "        text-align: right;\n",
              "    }\n",
              "</style>\n",
              "<table border=\"1\" class=\"dataframe\">\n",
              "  <thead>\n",
              "    <tr style=\"text-align: right;\">\n",
              "      <th></th>\n",
              "      <th>imdb_score</th>\n",
              "      <th>title_year</th>\n",
              "      <th>duration</th>\n",
              "      <th>num_critic_for_reviews</th>\n",
              "      <th>director_facebook_likes</th>\n",
              "      <th>actor_1_facebook_likes</th>\n",
              "      <th>actor_2_facebook_likes</th>\n",
              "      <th>actor_3_facebook_likes</th>\n",
              "      <th>num_voted_users</th>\n",
              "      <th>cast_total_facebook_likes</th>\n",
              "      <th>facenumber_in_poster</th>\n",
              "      <th>num_user_for_reviews</th>\n",
              "      <th>language</th>\n",
              "      <th>country</th>\n",
              "      <th>PG-13</th>\n",
              "      <th>PG</th>\n",
              "      <th>G</th>\n",
              "      <th>R</th>\n",
              "      <th>Not Rated</th>\n",
              "      <th>Unrated</th>\n",
              "      <th>Approved</th>\n",
              "      <th>NC-17</th>\n",
              "      <th>Passed</th>\n",
              "      <th>budget</th>\n",
              "      <th>aspect_ratio</th>\n",
              "      <th>n1</th>\n",
              "      <th>n2</th>\n",
              "      <th>n3</th>\n",
              "      <th>n4</th>\n",
              "      <th>n5</th>\n",
              "      <th>n6</th>\n",
              "      <th>n7</th>\n",
              "      <th>n8</th>\n",
              "      <th>n9</th>\n",
              "      <th>n10</th>\n",
              "      <th>n11</th>\n",
              "      <th>n12</th>\n",
              "      <th>n13</th>\n",
              "      <th>n14</th>\n",
              "      <th>n15</th>\n",
              "      <th>...</th>\n",
              "      <th>L9</th>\n",
              "      <th>L10</th>\n",
              "      <th>L11</th>\n",
              "      <th>L12</th>\n",
              "      <th>L13</th>\n",
              "      <th>L14</th>\n",
              "      <th>L15</th>\n",
              "      <th>L16</th>\n",
              "      <th>L17</th>\n",
              "      <th>L18</th>\n",
              "      <th>L19</th>\n",
              "      <th>L20</th>\n",
              "      <th>L21</th>\n",
              "      <th>L22</th>\n",
              "      <th>L23</th>\n",
              "      <th>L24</th>\n",
              "      <th>L25</th>\n",
              "      <th>L26</th>\n",
              "      <th>L27</th>\n",
              "      <th>L28</th>\n",
              "      <th>L29</th>\n",
              "      <th>L30</th>\n",
              "      <th>L31</th>\n",
              "      <th>L32</th>\n",
              "      <th>L33</th>\n",
              "      <th>L34</th>\n",
              "      <th>L35</th>\n",
              "      <th>L36</th>\n",
              "      <th>L37</th>\n",
              "      <th>L38</th>\n",
              "      <th>L39</th>\n",
              "      <th>L40</th>\n",
              "      <th>L41</th>\n",
              "      <th>L42</th>\n",
              "      <th>L43</th>\n",
              "      <th>L44</th>\n",
              "      <th>L45</th>\n",
              "      <th>L46</th>\n",
              "      <th>L47</th>\n",
              "      <th>gross</th>\n",
              "    </tr>\n",
              "  </thead>\n",
              "  <tbody>\n",
              "    <tr>\n",
              "      <th>0</th>\n",
              "      <td>7.9</td>\n",
              "      <td>2009</td>\n",
              "      <td>178</td>\n",
              "      <td>723</td>\n",
              "      <td>0</td>\n",
              "      <td>1000</td>\n",
              "      <td>936</td>\n",
              "      <td>855</td>\n",
              "      <td>886204</td>\n",
              "      <td>4834</td>\n",
              "      <td>0</td>\n",
              "      <td>3054</td>\n",
              "      <td>1</td>\n",
              "      <td>1</td>\n",
              "      <td>1</td>\n",
              "      <td>0</td>\n",
              "      <td>0</td>\n",
              "      <td>0</td>\n",
              "      <td>0</td>\n",
              "      <td>0</td>\n",
              "      <td>0</td>\n",
              "      <td>0</td>\n",
              "      <td>0</td>\n",
              "      <td>237000000</td>\n",
              "      <td>1.78</td>\n",
              "      <td>1</td>\n",
              "      <td>0</td>\n",
              "      <td>0</td>\n",
              "      <td>0</td>\n",
              "      <td>0</td>\n",
              "      <td>0</td>\n",
              "      <td>0</td>\n",
              "      <td>0</td>\n",
              "      <td>0</td>\n",
              "      <td>1</td>\n",
              "      <td>0</td>\n",
              "      <td>0</td>\n",
              "      <td>0</td>\n",
              "      <td>0</td>\n",
              "      <td>0</td>\n",
              "      <td>...</td>\n",
              "      <td>0</td>\n",
              "      <td>0</td>\n",
              "      <td>0</td>\n",
              "      <td>0</td>\n",
              "      <td>0</td>\n",
              "      <td>0</td>\n",
              "      <td>0</td>\n",
              "      <td>0</td>\n",
              "      <td>0</td>\n",
              "      <td>0</td>\n",
              "      <td>0</td>\n",
              "      <td>0</td>\n",
              "      <td>0</td>\n",
              "      <td>0</td>\n",
              "      <td>0</td>\n",
              "      <td>0</td>\n",
              "      <td>0</td>\n",
              "      <td>0</td>\n",
              "      <td>0</td>\n",
              "      <td>0</td>\n",
              "      <td>0</td>\n",
              "      <td>0</td>\n",
              "      <td>0</td>\n",
              "      <td>0</td>\n",
              "      <td>0</td>\n",
              "      <td>0</td>\n",
              "      <td>0</td>\n",
              "      <td>0</td>\n",
              "      <td>0</td>\n",
              "      <td>0</td>\n",
              "      <td>0</td>\n",
              "      <td>0</td>\n",
              "      <td>0</td>\n",
              "      <td>0</td>\n",
              "      <td>0</td>\n",
              "      <td>0</td>\n",
              "      <td>0</td>\n",
              "      <td>0</td>\n",
              "      <td>0</td>\n",
              "      <td>760505847</td>\n",
              "    </tr>\n",
              "  </tbody>\n",
              "</table>\n",
              "<p>1 rows × 164 columns</p>\n",
              "</div>"
            ],
            "text/plain": [
              "   imdb_score  title_year  duration  ...  L46  L47      gross\n",
              "0         7.9        2009       178  ...    0    0  760505847\n",
              "\n",
              "[1 rows x 164 columns]"
            ]
          },
          "metadata": {
            "tags": []
          },
          "execution_count": 1
        }
      ]
    },
    {
      "cell_type": "code",
      "metadata": {
        "id": "tUTE2nWUL6vz",
        "colab_type": "code",
        "colab": {}
      },
      "source": [
        "# Separate the target column\n",
        "X = df.drop('imdb_score',1)\n",
        "y = df[['imdb_score']]"
      ],
      "execution_count": null,
      "outputs": []
    },
    {
      "cell_type": "code",
      "metadata": {
        "id": "lyt6Z2GYM_qB",
        "colab_type": "code",
        "colab": {}
      },
      "source": [
        "from sklearn.model_selection import train_test_split\n",
        "X_train, X_test, y_train, y_test = train_test_split(X, y, test_size=0.2, random_state=42)\n",
        "# print(X_train[0:1].isnull().sum().sum())\n",
        "# X_train[0:1].to_csv('demo_train.csv')\n",
        "# print(X_train.columns.to_list())\n"
      ],
      "execution_count": null,
      "outputs": []
    },
    {
      "cell_type": "code",
      "metadata": {
        "id": "2nC05CEnNZZ2",
        "colab_type": "code",
        "colab": {
          "base_uri": "https://localhost:8080/",
          "height": 106
        },
        "outputId": "b2a42535-5d3e-43f2-8508-5aa755528349"
      },
      "source": [
        "from sklearn import ensemble\n",
        "from sklearn.metrics import mean_squared_error\n",
        "params = {'n_estimators': 500, 'max_depth': 4, 'min_samples_split': 2,\n",
        "          'learning_rate': 0.01, 'loss': 'ls'}\n",
        "clf = ensemble.GradientBoostingRegressor(**params)\n",
        "clf.fit(X_train, y_train)\n",
        "mse = mean_squared_error(y_test, clf.predict(X_test))\n",
        "print(clf.score(X_test, y_test))\n",
        "print(\"MSE: %.4f\" % mse)"
      ],
      "execution_count": null,
      "outputs": [
        {
          "output_type": "stream",
          "text": [
            "/usr/local/lib/python3.6/dist-packages/sklearn/ensemble/_gb.py:1454: DataConversionWarning: A column-vector y was passed when a 1d array was expected. Please change the shape of y to (n_samples, ), for example using ravel().\n",
            "  y = column_or_1d(y, warn=True)\n"
          ],
          "name": "stderr"
        },
        {
          "output_type": "stream",
          "text": [
            "0.5973226655836577\n",
            "MSE: 0.4174\n"
          ],
          "name": "stdout"
        }
      ]
    },
    {
      "cell_type": "code",
      "metadata": {
        "id": "z_yNMciuZxVD",
        "colab_type": "code",
        "colab": {
          "base_uri": "https://localhost:8080/",
          "height": 106
        },
        "outputId": "820812bd-4c48-4c9d-cb1d-0497f02f92e2"
      },
      "source": [
        "from sklearn.ensemble import AdaBoostRegressor\n",
        "regr = AdaBoostRegressor(random_state=0, learning_rate=0.01,n_estimators=1000)\n",
        "regr.fit(X_train, y_train)\n",
        "mse = mean_squared_error(y_test, regr.predict(X_test))\n",
        "print(regr.score(X_test, y_test))\n",
        "print(\"MSE: %.4f\" % mse)"
      ],
      "execution_count": null,
      "outputs": [
        {
          "output_type": "stream",
          "text": [
            "/usr/local/lib/python3.6/dist-packages/sklearn/utils/validation.py:760: DataConversionWarning: A column-vector y was passed when a 1d array was expected. Please change the shape of y to (n_samples, ), for example using ravel().\n",
            "  y = column_or_1d(y, warn=True)\n"
          ],
          "name": "stderr"
        },
        {
          "output_type": "stream",
          "text": [
            "0.3657135480382685\n",
            "MSE: 0.6575\n"
          ],
          "name": "stdout"
        }
      ]
    },
    {
      "cell_type": "code",
      "metadata": {
        "id": "DJAxKghuclfZ",
        "colab_type": "code",
        "colab": {
          "base_uri": "https://localhost:8080/",
          "height": 120
        },
        "outputId": "80b8bcb1-38ae-4d6f-b4da-9994acf88948"
      },
      "source": [
        "from numpy import mean\n",
        "from numpy import std\n",
        "from sklearn.model_selection import cross_val_score\n",
        "from sklearn.model_selection import RepeatedKFold\n",
        "from sklearn.ensemble import AdaBoostRegressor\n",
        "model = AdaBoostRegressor()\n",
        "# evaluate the model\n",
        "cv = RepeatedKFold(n_splits=10, n_repeats=3, random_state=1)\n",
        "n_scores = cross_val_score(model, X, y, scoring='neg_mean_absolute_error', cv=cv, n_jobs=-1, error_score='raise')\n",
        "print(n_scores)\n",
        "# report performance\n",
        "print('MAE: %.3f (%.3f)' % (mean(n_scores), std(n_scores)))"
      ],
      "execution_count": null,
      "outputs": [
        {
          "output_type": "stream",
          "text": [
            "[-0.69485253 -0.67312602 -0.72246223 -0.69932773 -0.64907386 -0.69313127\n",
            " -0.69797887 -0.68468979 -0.65152981 -0.67587206 -0.67379114 -0.72212561\n",
            " -0.67258315 -0.71418935 -0.63301493 -0.66241886 -0.70964982 -0.65977383\n",
            " -0.64306176 -0.68220079 -0.6757112  -0.65619216 -0.71412715 -0.71874948\n",
            " -0.7003127  -0.65264904 -0.67177559 -0.65763976 -0.66987139 -0.7105956 ]\n",
            "MAE: -0.681 (0.025)\n"
          ],
          "name": "stdout"
        }
      ]
    },
    {
      "cell_type": "code",
      "metadata": {
        "id": "hH6azzUUfcRG",
        "colab_type": "code",
        "colab": {
          "base_uri": "https://localhost:8080/",
          "height": 34
        },
        "outputId": "4b5d3850-5d57-4851-ef24-afffab57613d"
      },
      "source": [
        "from sklearn.metrics import mean_squared_error\n",
        "from sklearn.metrics import fbeta_score, make_scorer\n",
        "my_scorer = make_scorer(mean_squared_error)\n",
        "n_scores = cross_val_score(model, X, y, scoring=my_scorer, cv=cv, n_jobs=-1, error_score='raise')\n",
        "print(n_scores.mean())\n"
      ],
      "execution_count": null,
      "outputs": [
        {
          "output_type": "stream",
          "text": [
            "0.7236341255628654\n"
          ],
          "name": "stdout"
        }
      ]
    },
    {
      "cell_type": "code",
      "metadata": {
        "id": "RnUw4vJJWVEg",
        "colab_type": "code",
        "colab": {
          "base_uri": "https://localhost:8080/",
          "height": 1000
        },
        "outputId": "8962abb2-bdcf-442b-8cba-8d473c6fe330"
      },
      "source": [
        "import matplotlib.pyplot as plt\n",
        "import numpy as np\n",
        "\n",
        "feature_importance = clf.feature_importances_\n",
        "d = zip(clf.feature_importances_,X.columns)\n",
        "\n",
        "for i in sorted(d):\n",
        "  print(i) "
      ],
      "execution_count": null,
      "outputs": [
        {
          "output_type": "stream",
          "text": [
            "(0.0, 'Approved')\n",
            "(0.0, 'C11')\n",
            "(0.0, 'C12')\n",
            "(0.0, 'C13')\n",
            "(0.0, 'C14')\n",
            "(0.0, 'C15')\n",
            "(0.0, 'C17')\n",
            "(0.0, 'C18')\n",
            "(0.0, 'C19')\n",
            "(0.0, 'C20')\n",
            "(0.0, 'C21')\n",
            "(0.0, 'C22')\n",
            "(0.0, 'C23')\n",
            "(0.0, 'C24')\n",
            "(0.0, 'C25')\n",
            "(0.0, 'C26')\n",
            "(0.0, 'C27')\n",
            "(0.0, 'C28')\n",
            "(0.0, 'C29')\n",
            "(0.0, 'C3')\n",
            "(0.0, 'C30')\n",
            "(0.0, 'C31')\n",
            "(0.0, 'C32')\n",
            "(0.0, 'C33')\n",
            "(0.0, 'C34')\n",
            "(0.0, 'C35')\n",
            "(0.0, 'C36')\n",
            "(0.0, 'C37')\n",
            "(0.0, 'C38')\n",
            "(0.0, 'C39')\n",
            "(0.0, 'C40')\n",
            "(0.0, 'C41')\n",
            "(0.0, 'C42')\n",
            "(0.0, 'C43')\n",
            "(0.0, 'C44')\n",
            "(0.0, 'C45')\n",
            "(0.0, 'C46')\n",
            "(0.0, 'C47')\n",
            "(0.0, 'C48')\n",
            "(0.0, 'C49')\n",
            "(0.0, 'C5')\n",
            "(0.0, 'C50')\n",
            "(0.0, 'C51')\n",
            "(0.0, 'C52')\n",
            "(0.0, 'C53')\n",
            "(0.0, 'C54')\n",
            "(0.0, 'C55')\n",
            "(0.0, 'C56')\n",
            "(0.0, 'C57')\n",
            "(0.0, 'C58')\n",
            "(0.0, 'C59')\n",
            "(0.0, 'C6')\n",
            "(0.0, 'C60')\n",
            "(0.0, 'C61')\n",
            "(0.0, 'C62')\n",
            "(0.0, 'C63')\n",
            "(0.0, 'C64')\n",
            "(0.0, 'C65')\n",
            "(0.0, 'C9')\n",
            "(0.0, 'L10')\n",
            "(0.0, 'L11')\n",
            "(0.0, 'L12')\n",
            "(0.0, 'L14')\n",
            "(0.0, 'L15')\n",
            "(0.0, 'L16')\n",
            "(0.0, 'L17')\n",
            "(0.0, 'L18')\n",
            "(0.0, 'L19')\n",
            "(0.0, 'L2')\n",
            "(0.0, 'L20')\n",
            "(0.0, 'L21')\n",
            "(0.0, 'L22')\n",
            "(0.0, 'L23')\n",
            "(0.0, 'L24')\n",
            "(0.0, 'L25')\n",
            "(0.0, 'L26')\n",
            "(0.0, 'L28')\n",
            "(0.0, 'L29')\n",
            "(0.0, 'L30')\n",
            "(0.0, 'L31')\n",
            "(0.0, 'L32')\n",
            "(0.0, 'L33')\n",
            "(0.0, 'L34')\n",
            "(0.0, 'L35')\n",
            "(0.0, 'L36')\n",
            "(0.0, 'L37')\n",
            "(0.0, 'L38')\n",
            "(0.0, 'L39')\n",
            "(0.0, 'L4')\n",
            "(0.0, 'L40')\n",
            "(0.0, 'L42')\n",
            "(0.0, 'L43')\n",
            "(0.0, 'L44')\n",
            "(0.0, 'L45')\n",
            "(0.0, 'L46')\n",
            "(0.0, 'L47')\n",
            "(0.0, 'L5')\n",
            "(0.0, 'L7')\n",
            "(0.0, 'L9')\n",
            "(0.0, 'Passed')\n",
            "(0.0, 'n11')\n",
            "(0.0, 'n12')\n",
            "(0.0, 'n16')\n",
            "(0.0, 'n24')\n",
            "(0.0, 'n9')\n",
            "(5.402879076198711e-07, 'L41')\n",
            "(1.4911137645222021e-06, 'L3')\n",
            "(7.896195464468569e-06, 'L13')\n",
            "(1.0402556399716502e-05, 'C7')\n",
            "(1.238971329462324e-05, 'Unrated')\n",
            "(1.730072483193925e-05, 'n7')\n",
            "(3.0455923837797642e-05, 'n2')\n",
            "(3.7078034308545527e-05, 'L6')\n",
            "(4.286558980219692e-05, 'n3')\n",
            "(4.50196597704816e-05, 'n5')\n",
            "(5.584001932043114e-05, 'n10')\n",
            "(7.739745182098962e-05, 'n14')\n",
            "(7.950606286431665e-05, 'C10')\n",
            "(0.00011291281087678425, 'Not Rated')\n",
            "(0.000172735281588904, 'L8')\n",
            "(0.0002748922660015327, 'C4')\n",
            "(0.0003563890603682879, 'C16')\n",
            "(0.00044627147237849584, 'n25')\n",
            "(0.0004892985600708318, 'aspect_ratio')\n",
            "(0.0005564636365304248, 'n22')\n",
            "(0.0006134996152844316, 'n20')\n",
            "(0.0006822135813112686, 'n15')\n",
            "(0.0007801917358135905, 'G')\n",
            "(0.0010115340936702065, 'n23')\n",
            "(0.0010939198032765395, 'NC-17')\n",
            "(0.001148120233364061, 'n21')\n",
            "(0.0011959567994959885, 'L27')\n",
            "(0.0012930383406139173, 'actor_1_facebook_likes')\n",
            "(0.002021468405659729, 'C8')\n",
            "(0.0020659630138999967, 'PG')\n",
            "(0.00230469827543741, 'R')\n",
            "(0.0029914070654490574, 'n6')\n",
            "(0.003479159469384359, 'C2')\n",
            "(0.0036246247389401746, 'n1')\n",
            "(0.004526310428905306, 'n26')\n",
            "(0.004807219024505962, 'n13')\n",
            "(0.004969149022396394, 'C1')\n",
            "(0.005585376690044592, 'country')\n",
            "(0.005674895487712708, 'L1')\n",
            "(0.00649115431290297, 'facenumber_in_poster')\n",
            "(0.007436640897390573, 'cast_total_facebook_likes')\n",
            "(0.007663743147635877, 'actor_2_facebook_likes')\n",
            "(0.008398606549195864, 'n18')\n",
            "(0.01231086302407746, 'language')\n",
            "(0.013826453989491708, 'director_facebook_likes')\n",
            "(0.015011748305634271, 'actor_3_facebook_likes')\n",
            "(0.015477229197290806, 'n4')\n",
            "(0.01618422335595296, 'PG-13')\n",
            "(0.016481806771730133, 'n8')\n",
            "(0.024918323361728993, 'num_user_for_reviews')\n",
            "(0.03200710199298925, 'gross')\n",
            "(0.03804866648197193, 'num_critic_for_reviews')\n",
            "(0.0406171992787367, 'title_year')\n",
            "(0.0406595152746473, 'n19')\n",
            "(0.06244472786353108, 'duration')\n",
            "(0.07723016670291649, 'budget')\n",
            "(0.13346677394563694, 'n17')\n",
            "(0.37862916330017027, 'num_voted_users')\n"
          ],
          "name": "stdout"
        }
      ]
    }
  ]
}